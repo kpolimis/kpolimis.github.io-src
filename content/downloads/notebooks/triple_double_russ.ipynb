{
 "cells": [
  {
   "cell_type": "markdown",
   "metadata": {},
   "source": [
    "# Triple Double Russ\n",
    "   \n",
    "In this post, we use webscraping to analyze Russell Westbrook's (Russ) team performance when he records a triple double. We will use multiple Python modules and focus on `BeautifulSoup`, `pandas`, `matplotlib`, and `seaborn`\n",
    "\n",
    "## Overview\n",
    "* Background\n",
    "* Data Collection\n",
    "* Main Analysis\n",
    "* Data Visualization\n",
    "* Secondary Analysis\n",
    "* Review\n",
    "* Footnotes\n",
    "\n",
    "## Background\n",
    "[Russell Westbrook](https://en.wikipedia.org/wiki/Russell_Westbrook) is a lightning rod for discussion in the NBA because of his style of play and clashes with popular players like his [beef with former teammate Kevin Durant](https://www.essentiallysports.com/nba-basketball-news-how-kevin-durant-and-russell-westbrook-went-from-close-teammates-to-having-beef-with-each-other/). Westbrook's high energy, domineering style of play is best characterized by the the statistic he is known for, the triple double.  \n",
    "\n",
    "### What is a triple double?\n",
    "Traditional NBA [box scores](https://en.wikipedia.org/wiki/Box_score) collect statistics on 5 individual player categories: points, rebounds, assists, steals, and blocks[<sup>1</sup>](#fn1). When a player has 10 or more instances of each category (\"double\") in 3 categories (\"triple), the collective statisitcal feat is known as a triple double. Westbrook is the [NBA leader in career triple doubles](https://www.basketball-reference.com/leaders/trp_dbl_career.html) and recently [broke Hall of Famer Oscar Robertson's 47 year-old record](https://www.usatoday.com/story/sports/nba/wizards/2021/05/10/russell-westbrook-breaks-oscar-robertsons-nba-triple-double-record/5031401001/) in the 2020-21 season. Robertson was the original \"Mr. Triple Double\" and [some have used the moniker](https://www.foxsports.com/stories/nba/russell-westbrook-is-officially-mr-triple-double-but-his-legacy-is-complicated) with Russ. \n",
    "\n",
    "### What is controverisial about Russ and the triple double?\n",
    "\n",
    "While there are many supporters of Westbrook in print and video, including [videos praising Russ](https://www.youtube.com/watch?v=Na8lIRryd-o) for his ability to create triple doubles, there is also considerable pushback of Russ' pursuit of a triple double. Check the [plays compiled in this video](https://www.youtube.com/watch?v=N8erK7T_LIQ) for instance. At the time of the compiled plays, Westbrook is 2 assists shy of a triple double and declines to take several open shots in order to pass the ball to a teammate in the hopes of getting an assist. Several plays are awkward with Westbrook putting teammates in bad positions and some plays ending in turnovers. For me, the most egregious example of a player selfishly pursuing a triple double is [Ricky Davis in 2003](https://twitter.com/TheHoopCentral/status/1169419607158841344). With seconds remaining in the game his team was winning by 25, Davis attempted a shot on his team's basket in order to secure what he hoped would be his 10th rebound and a triple double (Davis was not credited with the rebound or triple double). That Westbrook video is nothing near the cynicism of Davis, but the discussion prompted by Russ' triple double ability is: \"Do Westbrook's teams win more games when he creates a triple double?\"\n",
    "\n",
    "In order to investigate Russ' team performance when he creates a triple double we need to gather his individual statistics and team performance during his games. We can gather both sources of information from [Basketball-Reference.com](https://www.basketball-reference.com/) and create a function to tabulate triple doubles. Then we will compare the win percentage of Westbrook's teams when he does and does not have a triple double to assess if his pursuit of a triple doubles negatively impacts team performance. We will subset our analysis to only Westbrook's Regular Season games\n",
    "\n",
    "## Data Collection"
   ]
  },
  {
   "cell_type": "code",
   "execution_count": 1,
   "metadata": {},
   "outputs": [],
   "source": [
    "from utils import * \n",
    "import constants as c "
   ]
  },
  {
   "cell_type": "markdown",
   "metadata": {},
   "source": [
    "Russell Westbrook's player data is available at the following link: https://www.basketball-reference.com/players/w/westbru01.html. We can use the `webbrowser` module to open this url with the code below"
   ]
  },
  {
   "cell_type": "code",
   "execution_count": 2,
   "metadata": {},
   "outputs": [
    {
     "data": {
      "text/plain": [
       "True"
      ]
     },
     "execution_count": 2,
     "metadata": {},
     "output_type": "execute_result"
    }
   ],
   "source": [
    "westbrook_basketball_reference_url = \"https://www.basketball-reference.com/players/w/westbru01.html\"\n",
    "webbrowser.open(westbrook_basketball_reference_url)"
   ]
  },
  {
   "cell_type": "markdown",
   "metadata": {},
   "source": [
    "In order to create a dataset that includes Westbrook's individual and team performance, we need to scrape his yearly game log data. An example yearly game log is, https://www.basketball-reference.com/players/w/westbru01/gamelog/2022, the game log for this current season. To accomplish this task, we need to\n",
    "* Find out how many years of game log data is available\n",
    "* Create an empty list that will contain all yearly game log dataframes\n",
    "* Create a list to store any errors that may come up while scraping yearly game log web pages\n",
    "\n",
    "I've written a helper function, `get_player_metadata` that we can use to scrape a player's main [Basketball-Reference.com](https://www.basketball-reference.com/) page. `get_player_metadata` returns a dictionary of the years available for the player (in the form of a list) and the player's name"
   ]
  },
  {
   "cell_type": "code",
   "execution_count": 3,
   "metadata": {},
   "outputs": [],
   "source": [
    "player_metadata = get_player_metadata(westbrook_basketball_reference_url)\n",
    "years_available_list = player_metadata.get(\"years_available\")\n",
    "total_years_of_data = len(years_available_list)"
   ]
  },
  {
   "cell_type": "code",
   "execution_count": 4,
   "metadata": {},
   "outputs": [
    {
     "data": {
      "text/plain": [
       "{'years_available': ['2009',\n",
       "  '2010',\n",
       "  '2011',\n",
       "  '2012',\n",
       "  '2013',\n",
       "  '2014',\n",
       "  '2015',\n",
       "  '2016',\n",
       "  '2017',\n",
       "  '2018',\n",
       "  '2019',\n",
       "  '2020',\n",
       "  '2021',\n",
       "  '2022'],\n",
       " 'player_name': 'Russell Westbrook'}"
      ]
     },
     "execution_count": 4,
     "metadata": {},
     "output_type": "execute_result"
    }
   ],
   "source": [
    "player_metadata"
   ]
  },
  {
   "cell_type": "markdown",
   "metadata": {},
   "source": [
    "* lists for aggregating yearly game logs and errors while webscraping"
   ]
  },
  {
   "cell_type": "code",
   "execution_count": 5,
   "metadata": {},
   "outputs": [],
   "source": [
    "westbrook_career_game_logs_df_list = []\n",
    "errors_list = []"
   ]
  },
  {
   "cell_type": "markdown",
   "metadata": {},
   "source": [
    "* Now we can pass the `years_available_list` and iterate through each year of game log data and extract player statistical information on the individual game basis with the function `extract_player_game_logs`. We can also get team results from the same function\n",
    "    + Note: These functions collect the latest available data so you may have more games and slightly different win percentage statistics when running this notebook after 2022-03-06"
   ]
  },
  {
   "cell_type": "code",
   "execution_count": 6,
   "metadata": {},
   "outputs": [
    {
     "name": "stdout",
     "output_type": "stream",
     "text": [
      "getting game log data from 2009\n",
      "getting game log data from 2010\n",
      "getting game log data from 2011\n",
      "getting game log data from 2012\n",
      "getting game log data from 2013\n",
      "getting game log data from 2014\n",
      "getting game log data from 2015\n",
      "getting game log data from 2016\n",
      "getting game log data from 2017\n",
      "getting game log data from 2018\n",
      "getting game log data from 2019\n",
      "getting game log data from 2020\n",
      "getting game log data from 2021\n",
      "getting game log data from 2022\n"
     ]
    }
   ],
   "source": [
    "# The url template that we pass in year info\n",
    "url_template = 'https://www.basketball-reference.com/players/w/westbru01/gamelog/{year}'\n",
    "\n",
    "# for each year of data avaialable, gather game log data\n",
    "for year in years_available_list: \n",
    "    # Use try/except block to catch and inspect any urls that cause an error\n",
    "    try:\n",
    "        print(f'getting game log data from {year}')\n",
    "        # get the formatted game log data url\n",
    "        formatted_url = url_template.format(year=year)\n",
    "        westbrook_yearly_game_logs = extract_player_game_logs(formatted_url)\n",
    "\n",
    "        # append the current dataframe to the list of dataframes\n",
    "        westbrook_career_game_logs_df_list.append(westbrook_yearly_game_logs)\n",
    "    \n",
    "    except Exception as e:\n",
    "        # Store the url and the error it causes in a list\n",
    "        error =[formatted_url, e] \n",
    "        # then append it to the list of errors\n",
    "        errors_list.append(error)"
   ]
  },
  {
   "cell_type": "markdown",
   "metadata": {},
   "source": [
    "* check if there were any errors while scraping game log web pages"
   ]
  },
  {
   "cell_type": "code",
   "execution_count": 7,
   "metadata": {},
   "outputs": [
    {
     "data": {
      "text/plain": [
       "[]"
      ]
     },
     "execution_count": 7,
     "metadata": {},
     "output_type": "execute_result"
    }
   ],
   "source": [
    "errors_list"
   ]
  },
  {
   "cell_type": "markdown",
   "metadata": {},
   "source": [
    "* no errors found, we can concatenate our list of yearly game log dataframes, `westbrook_career_game_logs_df_list` into a single data frame with the concat function from the `pandas` module. \n",
    "* we can double check to see if we collected the same amount of yearly game logs as years of data available with a boolean comparison"
   ]
  },
  {
   "cell_type": "code",
   "execution_count": 8,
   "metadata": {},
   "outputs": [
    {
     "name": "stdout",
     "output_type": "stream",
     "text": [
      "True\n",
      "14\n"
     ]
    }
   ],
   "source": [
    "print(len(westbrook_career_game_logs_df_list)==len(years_available_list))\n",
    "print(len(westbrook_career_game_logs_df_list))"
   ]
  },
  {
   "cell_type": "code",
   "execution_count": 9,
   "metadata": {},
   "outputs": [],
   "source": [
    "westbrook_career_game_logs_df = pd.concat(westbrook_career_game_logs_df_list, axis=0)"
   ]
  },
  {
   "cell_type": "code",
   "execution_count": 10,
   "metadata": {},
   "outputs": [
    {
     "name": "stdout",
     "output_type": "stream",
     "text": [
      "collected data for 1093 games for Russell Westbrook\n"
     ]
    }
   ],
   "source": [
    "total_career_games = westbrook_career_game_logs_df.shape[0]\n",
    "print(f\"collected data for {total_career_games} games for {player_metadata.get('player_name')}\")"
   ]
  },
  {
   "cell_type": "markdown",
   "metadata": {},
   "source": [
    "* let's take a look at the data set we created and the column names/data types"
   ]
  },
  {
   "cell_type": "code",
   "execution_count": 11,
   "metadata": {},
   "outputs": [
    {
     "data": {
      "text/html": [
       "<div>\n",
       "<style scoped>\n",
       "    .dataframe tbody tr th:only-of-type {\n",
       "        vertical-align: middle;\n",
       "    }\n",
       "\n",
       "    .dataframe tbody tr th {\n",
       "        vertical-align: top;\n",
       "    }\n",
       "\n",
       "    .dataframe thead th {\n",
       "        text-align: right;\n",
       "    }\n",
       "</style>\n",
       "<table border=\"1\" class=\"dataframe\">\n",
       "  <thead>\n",
       "    <tr style=\"text-align: right;\">\n",
       "      <th></th>\n",
       "      <th>player_name</th>\n",
       "      <th>basketball_ref_id</th>\n",
       "      <th>age</th>\n",
       "      <th>season</th>\n",
       "      <th>date</th>\n",
       "      <th>box_score_link</th>\n",
       "      <th>team</th>\n",
       "      <th>opponent</th>\n",
       "      <th>location</th>\n",
       "      <th>result</th>\n",
       "      <th>...</th>\n",
       "      <th>three_pt_attempted</th>\n",
       "      <th>three_pt_pct</th>\n",
       "      <th>steals</th>\n",
       "      <th>blocks</th>\n",
       "      <th>turnovers</th>\n",
       "      <th>plus_minus</th>\n",
       "      <th>game_score</th>\n",
       "      <th>margin</th>\n",
       "      <th>result_b</th>\n",
       "      <th>active</th>\n",
       "    </tr>\n",
       "  </thead>\n",
       "  <tbody>\n",
       "    <tr>\n",
       "      <th>0</th>\n",
       "      <td>Russell Westbrook</td>\n",
       "      <td>w/westbru01</td>\n",
       "      <td>19-352</td>\n",
       "      <td>2008-09</td>\n",
       "      <td>2008-10-29</td>\n",
       "      <td>/boxscores/200810290OKC.html</td>\n",
       "      <td>OKC</td>\n",
       "      <td>MIL</td>\n",
       "      <td>1</td>\n",
       "      <td>L (-11)</td>\n",
       "      <td>...</td>\n",
       "      <td>2.0</td>\n",
       "      <td>0.5</td>\n",
       "      <td>0.0</td>\n",
       "      <td>1.0</td>\n",
       "      <td>2.0</td>\n",
       "      <td>5.0</td>\n",
       "      <td>11.0</td>\n",
       "      <td>-11.0</td>\n",
       "      <td>0.0</td>\n",
       "      <td>1</td>\n",
       "    </tr>\n",
       "    <tr>\n",
       "      <th>1</th>\n",
       "      <td>Russell Westbrook</td>\n",
       "      <td>w/westbru01</td>\n",
       "      <td>19-355</td>\n",
       "      <td>2008-09</td>\n",
       "      <td>2008-11-01</td>\n",
       "      <td>/boxscores/200811010HOU.html</td>\n",
       "      <td>OKC</td>\n",
       "      <td>HOU</td>\n",
       "      <td>0</td>\n",
       "      <td>L (-12)</td>\n",
       "      <td>...</td>\n",
       "      <td>1.0</td>\n",
       "      <td>0.0</td>\n",
       "      <td>1.0</td>\n",
       "      <td>0.0</td>\n",
       "      <td>2.0</td>\n",
       "      <td>-19.0</td>\n",
       "      <td>2.8</td>\n",
       "      <td>-12.0</td>\n",
       "      <td>0.0</td>\n",
       "      <td>1</td>\n",
       "    </tr>\n",
       "    <tr>\n",
       "      <th>2</th>\n",
       "      <td>Russell Westbrook</td>\n",
       "      <td>w/westbru01</td>\n",
       "      <td>19-356</td>\n",
       "      <td>2008-09</td>\n",
       "      <td>2008-11-02</td>\n",
       "      <td>/boxscores/200811020OKC.html</td>\n",
       "      <td>OKC</td>\n",
       "      <td>MIN</td>\n",
       "      <td>1</td>\n",
       "      <td>W (+3)</td>\n",
       "      <td>...</td>\n",
       "      <td>1.0</td>\n",
       "      <td>0.0</td>\n",
       "      <td>2.0</td>\n",
       "      <td>0.0</td>\n",
       "      <td>3.0</td>\n",
       "      <td>7.0</td>\n",
       "      <td>7.6</td>\n",
       "      <td>3.0</td>\n",
       "      <td>1.0</td>\n",
       "      <td>1</td>\n",
       "    </tr>\n",
       "    <tr>\n",
       "      <th>3</th>\n",
       "      <td>Russell Westbrook</td>\n",
       "      <td>w/westbru01</td>\n",
       "      <td>19-359</td>\n",
       "      <td>2008-09</td>\n",
       "      <td>2008-11-05</td>\n",
       "      <td>/boxscores/200811050OKC.html</td>\n",
       "      <td>OKC</td>\n",
       "      <td>BOS</td>\n",
       "      <td>1</td>\n",
       "      <td>L (-13)</td>\n",
       "      <td>...</td>\n",
       "      <td>5.0</td>\n",
       "      <td>0.6</td>\n",
       "      <td>1.0</td>\n",
       "      <td>0.0</td>\n",
       "      <td>2.0</td>\n",
       "      <td>-3.0</td>\n",
       "      <td>6.7</td>\n",
       "      <td>-13.0</td>\n",
       "      <td>0.0</td>\n",
       "      <td>1</td>\n",
       "    </tr>\n",
       "    <tr>\n",
       "      <th>4</th>\n",
       "      <td>Russell Westbrook</td>\n",
       "      <td>w/westbru01</td>\n",
       "      <td>19-361</td>\n",
       "      <td>2008-09</td>\n",
       "      <td>2008-11-07</td>\n",
       "      <td>/boxscores/200811070UTA.html</td>\n",
       "      <td>OKC</td>\n",
       "      <td>UTA</td>\n",
       "      <td>0</td>\n",
       "      <td>L (-7)</td>\n",
       "      <td>...</td>\n",
       "      <td>0.0</td>\n",
       "      <td>0.0</td>\n",
       "      <td>0.0</td>\n",
       "      <td>0.0</td>\n",
       "      <td>2.0</td>\n",
       "      <td>-5.0</td>\n",
       "      <td>-0.2</td>\n",
       "      <td>-7.0</td>\n",
       "      <td>0.0</td>\n",
       "      <td>1</td>\n",
       "    </tr>\n",
       "  </tbody>\n",
       "</table>\n",
       "<p>5 rows × 37 columns</p>\n",
       "</div>"
      ],
      "text/plain": [
       "         player_name basketball_ref_id     age   season       date  \\\n",
       "0  Russell Westbrook       w/westbru01  19-352  2008-09 2008-10-29   \n",
       "1  Russell Westbrook       w/westbru01  19-355  2008-09 2008-11-01   \n",
       "2  Russell Westbrook       w/westbru01  19-356  2008-09 2008-11-02   \n",
       "3  Russell Westbrook       w/westbru01  19-359  2008-09 2008-11-05   \n",
       "4  Russell Westbrook       w/westbru01  19-361  2008-09 2008-11-07   \n",
       "\n",
       "                 box_score_link team opponent  location   result  ...  \\\n",
       "0  /boxscores/200810290OKC.html  OKC      MIL         1  L (-11)  ...   \n",
       "1  /boxscores/200811010HOU.html  OKC      HOU         0  L (-12)  ...   \n",
       "2  /boxscores/200811020OKC.html  OKC      MIN         1   W (+3)  ...   \n",
       "3  /boxscores/200811050OKC.html  OKC      BOS         1  L (-13)  ...   \n",
       "4  /boxscores/200811070UTA.html  OKC      UTA         0   L (-7)  ...   \n",
       "\n",
       "   three_pt_attempted  three_pt_pct  steals blocks  turnovers  plus_minus  \\\n",
       "0                 2.0           0.5     0.0    1.0        2.0         5.0   \n",
       "1                 1.0           0.0     1.0    0.0        2.0       -19.0   \n",
       "2                 1.0           0.0     2.0    0.0        3.0         7.0   \n",
       "3                 5.0           0.6     1.0    0.0        2.0        -3.0   \n",
       "4                 0.0           0.0     0.0    0.0        2.0        -5.0   \n",
       "\n",
       "   game_score  margin  result_b  active  \n",
       "0        11.0   -11.0       0.0       1  \n",
       "1         2.8   -12.0       0.0       1  \n",
       "2         7.6     3.0       1.0       1  \n",
       "3         6.7   -13.0       0.0       1  \n",
       "4        -0.2    -7.0       0.0       1  \n",
       "\n",
       "[5 rows x 37 columns]"
      ]
     },
     "execution_count": 11,
     "metadata": {},
     "output_type": "execute_result"
    }
   ],
   "source": [
    "westbrook_career_game_logs_df.head()"
   ]
  },
  {
   "cell_type": "code",
   "execution_count": 12,
   "metadata": {},
   "outputs": [
    {
     "name": "stdout",
     "output_type": "stream",
     "text": [
      "<class 'pandas.core.frame.DataFrame'>\n",
      "Int64Index: 1093 entries, 0 to 62\n",
      "Data columns (total 37 columns):\n",
      " #   Column              Non-Null Count  Dtype         \n",
      "---  ------              --------------  -----         \n",
      " 0   player_name         1093 non-null   object        \n",
      " 1   basketball_ref_id   1093 non-null   object        \n",
      " 2   age                 1093 non-null   object        \n",
      " 3   season              1093 non-null   object        \n",
      " 4   date                1093 non-null   datetime64[ns]\n",
      " 5   box_score_link      1093 non-null   object        \n",
      " 6   team                1093 non-null   object        \n",
      " 7   opponent            1093 non-null   object        \n",
      " 8   location            1093 non-null   int64         \n",
      " 9   result              1093 non-null   object        \n",
      " 10  game_number         1093 non-null   int64         \n",
      " 11  game                1093 non-null   float64       \n",
      " 12  started_game        1093 non-null   float64       \n",
      " 13  minutes_played      1093 non-null   object        \n",
      " 14  points              1093 non-null   float64       \n",
      " 15  field_goals_made    1093 non-null   float64       \n",
      " 16  field_goals_att     1093 non-null   float64       \n",
      " 17  field_goal_pct      1093 non-null   float64       \n",
      " 18  free_throws_made    1093 non-null   float64       \n",
      " 19  free_throw_att      1093 non-null   float64       \n",
      " 20  free_throw_pct      1093 non-null   float64       \n",
      " 21  personal_fouls      1093 non-null   float64       \n",
      " 22  assists             1093 non-null   float64       \n",
      " 23  total_rebs          1093 non-null   float64       \n",
      " 24  offensive_rebs      1093 non-null   float64       \n",
      " 25  defensive_rebs      1093 non-null   float64       \n",
      " 26  three_pt_made       1093 non-null   float64       \n",
      " 27  three_pt_attempted  1093 non-null   float64       \n",
      " 28  three_pt_pct        1093 non-null   float64       \n",
      " 29  steals              1093 non-null   float64       \n",
      " 30  blocks              1093 non-null   float64       \n",
      " 31  turnovers           1093 non-null   float64       \n",
      " 32  plus_minus          1093 non-null   float64       \n",
      " 33  game_score          1093 non-null   float64       \n",
      " 34  margin              1093 non-null   float64       \n",
      " 35  result_b            1093 non-null   float64       \n",
      " 36  active              1093 non-null   int64         \n",
      "dtypes: datetime64[ns](1), float64(24), int64(3), object(9)\n",
      "memory usage: 324.5+ KB\n"
     ]
    }
   ],
   "source": [
    "westbrook_career_game_logs_df.info()"
   ]
  },
  {
   "cell_type": "code",
   "execution_count": 13,
   "metadata": {},
   "outputs": [
    {
     "data": {
      "text/plain": [
       "player_name                      Russell Westbrook\n",
       "basketball_ref_id                      w/westbru01\n",
       "age                                         19-352\n",
       "season                                     2008-09\n",
       "date                           2008-10-29 00:00:00\n",
       "box_score_link        /boxscores/200810290OKC.html\n",
       "team                                           OKC\n",
       "opponent                                       MIL\n",
       "location                                         1\n",
       "result                                     L (-11)\n",
       "game_number                                      1\n",
       "game                                           1.0\n",
       "started_game                                   0.0\n",
       "minutes_played                               21:56\n",
       "points                                        13.0\n",
       "field_goals_made                               4.0\n",
       "field_goals_att                                9.0\n",
       "field_goal_pct                               0.444\n",
       "free_throws_made                               4.0\n",
       "free_throw_att                                 6.0\n",
       "free_throw_pct                               0.667\n",
       "personal_fouls                                 2.0\n",
       "assists                                        4.0\n",
       "total_rebs                                     4.0\n",
       "offensive_rebs                                 4.0\n",
       "defensive_rebs                                 0.0\n",
       "three_pt_made                                  1.0\n",
       "three_pt_attempted                             2.0\n",
       "three_pt_pct                                   0.5\n",
       "steals                                         0.0\n",
       "blocks                                         1.0\n",
       "turnovers                                      2.0\n",
       "plus_minus                                     5.0\n",
       "game_score                                    11.0\n",
       "margin                                       -11.0\n",
       "result_b                                       0.0\n",
       "active                                           1\n",
       "Name: 0, dtype: object"
      ]
     },
     "execution_count": 13,
     "metadata": {},
     "output_type": "execute_result"
    }
   ],
   "source": [
    "westbrook_career_game_logs_df.iloc[0]"
   ]
  },
  {
   "cell_type": "markdown",
   "metadata": {},
   "source": [
    "## Main Analysis\n",
    "* now that we have all of Westbrook's individual and team statistics, we need to \n",
    "    + create a triple double metric\n",
    "    + compare win percentage across games where Westbrook does and does not generate a triple double\n",
    "    \n",
    "* our triple double metric, `triple_double`, is a binary indicator with a value of 1 when a triple double is achieved through one of 7 scenarios:\n",
    "    + points, rebounds, and assists\n",
    "    + points, rebounds, and steals\n",
    "    + points, rebounds, and blocks\n",
    "    + points, assists, and steals\n",
    "    + points, assists, and blocks\n",
    "    + rebounds, assists, and blocks\n",
    "    + rebounds, assists, and steals"
   ]
  },
  {
   "cell_type": "code",
   "execution_count": 14,
   "metadata": {},
   "outputs": [],
   "source": [
    "def triple_double(row):\n",
    "    if row['points']>=10 and row['total_rebs']>=10 and row['assists']>=10:\n",
    "        return 1\n",
    "    if row['points']>=10 and row['total_rebs']>=10 and row['blocks']>=10:\n",
    "        return 1\n",
    "    if row['points']>=10 and row['total_rebs']>=10 and row['steals']>=10:\n",
    "        return 1\n",
    "    if row['points']>=10 and row['assists']>=10 and row['steals']>=10:\n",
    "        return 1\n",
    "    if row['points']>=10 and row['assists']>=10 and row['blocks']>=10:\n",
    "        return 1\n",
    "    if row['total_rebs']>=10 and row['assists']>=10 and row['blocks']>=10:\n",
    "        return 1\n",
    "    if row['total_rebs']>=10 and row['assists']>=10 and row['steals']>=10:\n",
    "        return 1"
   ]
  },
  {
   "cell_type": "code",
   "execution_count": 15,
   "metadata": {},
   "outputs": [
    {
     "data": {
      "text/plain": [
       "0     0\n",
       "1     0\n",
       "2     0\n",
       "3     0\n",
       "4     0\n",
       "     ..\n",
       "58    0\n",
       "59    0\n",
       "60    0\n",
       "61    0\n",
       "62    0\n",
       "Name: triple_double, Length: 1093, dtype: int64"
      ]
     },
     "execution_count": 15,
     "metadata": {},
     "output_type": "execute_result"
    }
   ],
   "source": [
    "westbrook_career_game_logs_df[\"triple_double\"] = westbrook_career_game_logs_df.apply(triple_double, axis=1)\n",
    "westbrook_career_game_logs_df.loc[:, \"triple_double\"] = westbrook_career_game_logs_df.loc[:, \"triple_double\"].fillna(0)\n",
    "westbrook_career_game_logs_df[\"triple_double\"].astype(int)"
   ]
  },
  {
   "cell_type": "markdown",
   "metadata": {},
   "source": [
    "* percentage of career games westbrook records a triple double and number of games he has recorded a triple double"
   ]
  },
  {
   "cell_type": "code",
   "execution_count": 16,
   "metadata": {},
   "outputs": [
    {
     "data": {
      "text/plain": [
       "17.657822506861848"
      ]
     },
     "execution_count": 16,
     "metadata": {},
     "output_type": "execute_result"
    }
   ],
   "source": [
    "np.mean(westbrook_career_game_logs_df[\"triple_double\"])*100"
   ]
  },
  {
   "cell_type": "code",
   "execution_count": 17,
   "metadata": {},
   "outputs": [
    {
     "data": {
      "text/plain": [
       "193.0"
      ]
     },
     "execution_count": 17,
     "metadata": {},
     "output_type": "execute_result"
    }
   ],
   "source": [
    "westbrook_career_game_logs_df.shape[0]*np.mean(westbrook_career_game_logs_df[\"triple_double\"])"
   ]
  },
  {
   "cell_type": "markdown",
   "metadata": {},
   "source": [
    "* I calculated 193 triple doubles for Westbrook (17% of his career games) which matches the count found here on basketball-reference.com: https://www.basketball-reference.com/leaders/trp_dbl_career.html\n",
    "    + Note these numbers are current as of 2022-03-06\n",
    "* now we can calculate win percentage for games where Westbrook did and did not have a triple double\n",
    "* let's isolate only games westbrook was active for\n",
    "    + players can miss games for injury, personal reasons, suspension, and more\n",
    "* separate triple double games from other games\n",
    "\n",
    "### Win Percentage by Triple Double Occurrence\n",
    "\n",
    "* Active games only"
   ]
  },
  {
   "cell_type": "code",
   "execution_count": 18,
   "metadata": {},
   "outputs": [
    {
     "name": "stdout",
     "output_type": "stream",
     "text": [
      "Russell Westbrook has been active for 91.95% of his teams' games\n"
     ]
    }
   ],
   "source": [
    "westbrook_active_games_pct = np.mean(westbrook_career_game_logs_df[\"active\"])*100\n",
    "print(f\"Russell Westbrook has been active for {westbrook_active_games_pct:.2f}% of his teams' games\")"
   ]
  },
  {
   "cell_type": "markdown",
   "metadata": {},
   "source": [
    "* Westbrook is defined by his regular availability for his team (playing in 92% of his teams' games), he is so remarkably durable that he once had a [10 year streak](https://thesportsrush.com/nba-news-russell-westbrook-is-a-true-ironman-wizards-star-has-a-whopping-availability-record-that-met-an-unceremonious-end/) of no missed games"
   ]
  },
  {
   "cell_type": "code",
   "execution_count": 19,
   "metadata": {},
   "outputs": [],
   "source": [
    "westbrook_active_games_df = westbrook_career_game_logs_df.loc[westbrook_career_game_logs_df[\"active\"]==1]\n",
    "triple_double_games_df = westbrook_active_games_df.loc[westbrook_active_games_df[\"triple_double\"]==1]\n",
    "non_triple_double_games_df = westbrook_active_games_df.loc[westbrook_active_games_df[\"triple_double\"]!=1]"
   ]
  },
  {
   "cell_type": "code",
   "execution_count": 20,
   "metadata": {},
   "outputs": [],
   "source": [
    "westbrook_active_games_pct = np.mean(westbrook_career_game_logs_df[\"active\"])*100\n",
    "westbrook_career_games = westbrook_career_game_logs_df.shape[0]\n",
    "westbrook_active_games = westbrook_active_games_df.shape[0]\n",
    "triple_double_games = triple_double_games_df.shape[0]\n",
    "non_triple_double_games = non_triple_double_games_df.shape[0]\n",
    "active_triple_double_pct = np.mean(westbrook_active_games_df[\"triple_double\"])*100"
   ]
  },
  {
   "cell_type": "code",
   "execution_count": 21,
   "metadata": {},
   "outputs": [
    {
     "name": "stdout",
     "output_type": "stream",
     "text": [
      "Russell Westbrook has been active for 91.95% of his teams' games\n",
      "He has played in 1005 of 1093 potential games\n",
      "Westbrook has recorded a triple double in 193 games, 19.20% of his active games\n",
      "Westbrook has 812 games without a triple double\n"
     ]
    }
   ],
   "source": [
    "print(f\"Russell Westbrook has been active for {westbrook_active_games_pct:.2f}% of his teams' games\")\n",
    "print(f\"He has played in {westbrook_active_games} of {westbrook_career_games} potential games\")\n",
    "print(f\"Westbrook has recorded a triple double in {triple_double_games} games, {active_triple_double_pct:.2f}% of his active games\")\n",
    "print(f\"Westbrook has {non_triple_double_games} games without a triple double\")"
   ]
  },
  {
   "cell_type": "markdown",
   "metadata": {},
   "source": [
    "To complete our comparison, we need Westbrook's win percentage in 4 scenarios\n",
    "* Westbrook's career win percentage\n",
    "* Westbrook's active win percentage\n",
    "* Westbrook's triple double games win percentage\n",
    "* Westbrook's non-triple double games win percentage\n",
    "\n",
    "We can use the `result_b` column, a binary indicator of results where 0 indicates a loss and 1 indicates a win to calculate these win percentages across our different data frames. The mean for `result_b` is the percentage (after multiplying by 100) of games won under the scenario\n",
    "\n",
    "* First, Westbrook's career win percentage for his teams regardless of his activity status"
   ]
  },
  {
   "cell_type": "code",
   "execution_count": 22,
   "metadata": {},
   "outputs": [
    {
     "name": "stdout",
     "output_type": "stream",
     "text": [
      "Russell Westbrook's teams have won 54.44% of their games\n"
     ]
    }
   ],
   "source": [
    "westbrook_career_win_pct = np.mean(westbrook_career_game_logs_df['result_b'])*100\n",
    "print(f\"Russell Westbrook's teams have won {westbrook_career_win_pct:.2f}% of their games\")"
   ]
  },
  {
   "cell_type": "markdown",
   "metadata": {},
   "source": [
    "* Now scenario 2, win percentage when Russ is active"
   ]
  },
  {
   "cell_type": "code",
   "execution_count": 23,
   "metadata": {},
   "outputs": [
    {
     "name": "stdout",
     "output_type": "stream",
     "text": [
      "Russell Westbrook's teams win 59.20% of their games when he is active\n"
     ]
    }
   ],
   "source": [
    "westbrook_active_win_pct = np.mean(westbrook_active_games_df['result_b'])*100\n",
    "print(f\"Russell Westbrook's teams win {westbrook_active_win_pct:.2f}% of their games when he is active\")"
   ]
  },
  {
   "cell_type": "markdown",
   "metadata": {},
   "source": [
    "* We can see that Westbrook's teams win 5% more games when he is active than when he doesn't play, a good sign for an impactful palyer\n",
    "* Now let's calculate Westbrook's team win percentage in games he has a triple double"
   ]
  },
  {
   "cell_type": "code",
   "execution_count": 24,
   "metadata": {},
   "outputs": [
    {
     "name": "stdout",
     "output_type": "stream",
     "text": [
      "Russell Westbrook's teams win 73.58% of their games when he DOES record a triple double\n"
     ]
    }
   ],
   "source": [
    "triple_double_win_pct = np.mean(triple_double_games_df['result_b'])*100\n",
    "print(f\"Russell Westbrook's teams win {triple_double_win_pct:.2f}% of their games when he DOES record a triple double\")"
   ]
  },
  {
   "cell_type": "markdown",
   "metadata": {},
   "source": [
    "* Lastly, let's calculate Westbrook's win percentage when he does not record a triple double"
   ]
  },
  {
   "cell_type": "code",
   "execution_count": 25,
   "metadata": {},
   "outputs": [
    {
     "name": "stdout",
     "output_type": "stream",
     "text": [
      "Russell Westbrook's teams win 55.79% of their games when he DOES NOT record a triple double\n"
     ]
    }
   ],
   "source": [
    "non_triple_double_win_pct = np.mean(non_triple_double_games_df['result_b'])*100\n",
    "print(f\"Russell Westbrook's teams win {non_triple_double_win_pct:.2f}% of their games when he DOES NOT record a triple double\")"
   ]
  },
  {
   "cell_type": "code",
   "execution_count": 26,
   "metadata": {},
   "outputs": [
    {
     "data": {
      "text/html": [
       "<table>\n",
       "<tbody>\n",
       "<tr><td>Career Win Pct           </td><td>54.44%</td></tr>\n",
       "<tr><td>Active Win Pct           </td><td>59.20%</td></tr>\n",
       "<tr><td>Triple Double Win Pct    </td><td>73.58%</td></tr>\n",
       "<tr><td>Non-Triple Double Win Pct</td><td>55.79%</td></tr>\n",
       "</tbody>\n",
       "</table>"
      ],
      "text/plain": [
       "'<table>\\n<tbody>\\n<tr><td>Career Win Pct           </td><td>54.44%</td></tr>\\n<tr><td>Active Win Pct           </td><td>59.20%</td></tr>\\n<tr><td>Triple Double Win Pct    </td><td>73.58%</td></tr>\\n<tr><td>Non-Triple Double Win Pct</td><td>55.79%</td></tr>\\n</tbody>\\n</table>'"
      ]
     },
     "execution_count": 26,
     "metadata": {},
     "output_type": "execute_result"
    }
   ],
   "source": [
    "import tabulate\n",
    "data = [[\"Career Win Pct\", f\"{westbrook_career_win_pct:.2f}%\"],\n",
    "         [\"Active Win Pct\", f\"{westbrook_active_win_pct:.2f}%\"],\n",
    "         [\"Triple Double Win Pct\", f\"{triple_double_win_pct:.2f}%\"],\n",
    "         [\"Non-Triple Double Win Pct\", f\"{non_triple_double_win_pct:.2f}%\"]]\n",
    "table = tabulate.tabulate(data, tablefmt='html')\n",
    "table"
   ]
  },
  {
   "cell_type": "markdown",
   "metadata": {},
   "source": [
    "* We can add a z-test of proportions to compare the win percentages in different scenarios to see if they are stastically significant.\n",
    "* The null hypothesis for this test is that the win percentages are equal in both scenarios (games with a triple double vs games without a triple double)"
   ]
  },
  {
   "cell_type": "code",
   "execution_count": 27,
   "metadata": {},
   "outputs": [
    {
     "data": {
      "text/html": [
       "<div>\n",
       "<style scoped>\n",
       "    .dataframe tbody tr th:only-of-type {\n",
       "        vertical-align: middle;\n",
       "    }\n",
       "\n",
       "    .dataframe tbody tr th {\n",
       "        vertical-align: top;\n",
       "    }\n",
       "\n",
       "    .dataframe thead th {\n",
       "        text-align: right;\n",
       "    }\n",
       "</style>\n",
       "<table border=\"1\" class=\"dataframe\">\n",
       "  <thead>\n",
       "    <tr style=\"text-align: right;\">\n",
       "      <th>triple_double</th>\n",
       "      <th>0.0</th>\n",
       "      <th>1.0</th>\n",
       "    </tr>\n",
       "    <tr>\n",
       "      <th>result_b</th>\n",
       "      <th></th>\n",
       "      <th></th>\n",
       "    </tr>\n",
       "  </thead>\n",
       "  <tbody>\n",
       "    <tr>\n",
       "      <th>0.0</th>\n",
       "      <td>359</td>\n",
       "      <td>51</td>\n",
       "    </tr>\n",
       "    <tr>\n",
       "      <th>1.0</th>\n",
       "      <td>453</td>\n",
       "      <td>142</td>\n",
       "    </tr>\n",
       "  </tbody>\n",
       "</table>\n",
       "</div>"
      ],
      "text/plain": [
       "triple_double  0.0  1.0\n",
       "result_b               \n",
       "0.0            359   51\n",
       "1.0            453  142"
      ]
     },
     "execution_count": 27,
     "metadata": {},
     "output_type": "execute_result"
    }
   ],
   "source": [
    "contingency_table = pd.crosstab(westbrook_active_games_df.result_b,westbrook_active_games_df.triple_double) #Contingency Table\n",
    "contingency_table"
   ]
  },
  {
   "cell_type": "code",
   "execution_count": 28,
   "metadata": {},
   "outputs": [
    {
     "name": "stdout",
     "output_type": "stream",
     "text": [
      "z_stat: -4.520, p_value: 0.000\n",
      "Reject the null hypothesis - suggest the alternative hypothesis is true\n"
     ]
    }
   ],
   "source": [
    "z_stat, p_value = create_proportions_ztest(contingency_table)"
   ]
  },
  {
   "cell_type": "markdown",
   "metadata": {},
   "source": [
    "* The difference in win percentage for games with a triple double and without a triple double is statistically significant\n",
    "\n",
    "## Data visualization\n",
    "* Chart of triple doubles over time\n",
    "* Where is Russ having triple doubles: home or away?\n",
    "    + Note these counts are across the NBA season and not the calendar year"
   ]
  },
  {
   "cell_type": "code",
   "execution_count": 29,
   "metadata": {},
   "outputs": [],
   "source": [
    "westbrook_active_games_df = copy.deepcopy(westbrook_active_games_df)\n",
    "westbrook_active_games_df[\"year\"] = westbrook_active_games_df[\"season\"].apply(lambda x: x[0:4])\n",
    "westbrook_active_games_df[\"year\"] =  pd.DatetimeIndex(westbrook_active_games_df[\"year\"])"
   ]
  },
  {
   "cell_type": "code",
   "execution_count": 30,
   "metadata": {},
   "outputs": [
    {
     "data": {
      "text/plain": [
       "year\n",
       "2008-12-31     1.0\n",
       "2009-12-31     1.0\n",
       "2010-12-31     3.0\n",
       "2011-12-31     0.0\n",
       "2012-12-31     1.0\n",
       "2013-12-31     2.0\n",
       "2014-12-31    11.0\n",
       "2015-12-31    18.0\n",
       "2016-12-31    42.0\n",
       "2017-12-31    25.0\n",
       "2018-12-31    34.0\n",
       "2019-12-31     8.0\n",
       "2020-12-31    38.0\n",
       "2021-12-31     9.0\n",
       "Freq: A-DEC, Name: triple_double, dtype: float64"
      ]
     },
     "execution_count": 30,
     "metadata": {},
     "output_type": "execute_result"
    }
   ],
   "source": [
    "yearly_triple_double_counts = westbrook_active_games_df.resample(rule='Y', on='year')['triple_double'].sum()\n",
    "yearly_triple_double_counts"
   ]
  },
  {
   "cell_type": "code",
   "execution_count": 31,
   "metadata": {},
   "outputs": [
    {
     "data": {
      "image/png": "[encoded data removed]",
      "text/plain": [
       "<Figure size 864x864 with 1 Axes>"
      ]
     },
     "metadata": {},
     "output_type": "display_data"
    }
   ],
   "source": [
    "sns.set_style(\"white\")\n",
    "sns.set_color_codes()\n",
    "# Create figure and plot space\n",
    "fig, ax = plt.subplots(figsize=(12, 12))\n",
    "\n",
    "# Add x-axis and y-axis\n",
    "ax.bar(yearly_triple_double_counts.index.year,\n",
    "       yearly_triple_double_counts.values,\n",
    "       color='Blue')\n",
    "\n",
    "# Set title and labels for axes\n",
    "ax.set(xlabel=\"Season\",\n",
    "       ylabel=\"Games with a Triple Double\",\n",
    "       title= \"Seasonal Counts of Triple Doubles by Russell Westbrook\")\n",
    "\n",
    "# add '2008' to years_available_list so that we have the Seasons shown on x-axis \n",
    "years_available_list = ['2008'] + years_available_list\n",
    "ax.xaxis.set_ticks([int(year) for year in years_available_list]) \n",
    "# Call add values function \n",
    "add_value_labels(ax)\n",
    "plt.show()"
   ]
  },
  {
   "cell_type": "markdown",
   "metadata": {},
   "source": [
    "* to find the frequency of triple doubles by location (home vs away), we need to\n",
    "    + create a `year` variable from the `date` variable\n",
    "    + group by three variables of interest and fill the observations without a triple double with 0 instead of NaN"
   ]
  },
  {
   "cell_type": "code",
   "execution_count": 32,
   "metadata": {},
   "outputs": [],
   "source": [
    "# westbrook_active_games_df = copy.deepcopy(westbrook_active_games_df)\n",
    "# westbrook_active_games_df[\"year\"] =  pd.DatetimeIndex(westbrook_active_games_df[\"date\"]).year"
   ]
  },
  {
   "cell_type": "code",
   "execution_count": 33,
   "metadata": {},
   "outputs": [],
   "source": [
    "triple_double_games_df = copy.deepcopy(triple_double_games_df)\n",
    "triple_double_games_df[\"year\"] = triple_double_games_df[\"season\"].apply(lambda x: x[0:4])\n",
    "triple_double_games_df[\"year\"] =  pd.DatetimeIndex(triple_double_games_df[\"year\"]).year"
   ]
  },
  {
   "cell_type": "code",
   "execution_count": 34,
   "metadata": {},
   "outputs": [
    {
     "data": {
      "text/html": [
       "<div>\n",
       "<style scoped>\n",
       "    .dataframe tbody tr th:only-of-type {\n",
       "        vertical-align: middle;\n",
       "    }\n",
       "\n",
       "    .dataframe tbody tr th {\n",
       "        vertical-align: top;\n",
       "    }\n",
       "\n",
       "    .dataframe thead tr th {\n",
       "        text-align: left;\n",
       "    }\n",
       "\n",
       "    .dataframe thead tr:last-of-type th {\n",
       "        text-align: right;\n",
       "    }\n",
       "</style>\n",
       "<table border=\"1\" class=\"dataframe\">\n",
       "  <thead>\n",
       "    <tr>\n",
       "      <th>triple_double</th>\n",
       "      <th colspan=\"2\" halign=\"left\">1.0</th>\n",
       "    </tr>\n",
       "    <tr>\n",
       "      <th>location</th>\n",
       "      <th>0</th>\n",
       "      <th>1</th>\n",
       "    </tr>\n",
       "    <tr>\n",
       "      <th>year</th>\n",
       "      <th></th>\n",
       "      <th></th>\n",
       "    </tr>\n",
       "  </thead>\n",
       "  <tbody>\n",
       "    <tr>\n",
       "      <th>2008</th>\n",
       "      <td>0.0</td>\n",
       "      <td>1.0</td>\n",
       "    </tr>\n",
       "    <tr>\n",
       "      <th>2009</th>\n",
       "      <td>1.0</td>\n",
       "      <td>0.0</td>\n",
       "    </tr>\n",
       "    <tr>\n",
       "      <th>2010</th>\n",
       "      <td>0.0</td>\n",
       "      <td>3.0</td>\n",
       "    </tr>\n",
       "    <tr>\n",
       "      <th>2012</th>\n",
       "      <td>1.0</td>\n",
       "      <td>0.0</td>\n",
       "    </tr>\n",
       "    <tr>\n",
       "      <th>2013</th>\n",
       "      <td>1.0</td>\n",
       "      <td>1.0</td>\n",
       "    </tr>\n",
       "    <tr>\n",
       "      <th>2014</th>\n",
       "      <td>2.0</td>\n",
       "      <td>9.0</td>\n",
       "    </tr>\n",
       "    <tr>\n",
       "      <th>2015</th>\n",
       "      <td>7.0</td>\n",
       "      <td>11.0</td>\n",
       "    </tr>\n",
       "    <tr>\n",
       "      <th>2016</th>\n",
       "      <td>17.0</td>\n",
       "      <td>25.0</td>\n",
       "    </tr>\n",
       "    <tr>\n",
       "      <th>2017</th>\n",
       "      <td>16.0</td>\n",
       "      <td>9.0</td>\n",
       "    </tr>\n",
       "    <tr>\n",
       "      <th>2018</th>\n",
       "      <td>15.0</td>\n",
       "      <td>19.0</td>\n",
       "    </tr>\n",
       "    <tr>\n",
       "      <th>2019</th>\n",
       "      <td>3.0</td>\n",
       "      <td>5.0</td>\n",
       "    </tr>\n",
       "    <tr>\n",
       "      <th>2020</th>\n",
       "      <td>17.0</td>\n",
       "      <td>21.0</td>\n",
       "    </tr>\n",
       "    <tr>\n",
       "      <th>2021</th>\n",
       "      <td>4.0</td>\n",
       "      <td>5.0</td>\n",
       "    </tr>\n",
       "  </tbody>\n",
       "</table>\n",
       "</div>"
      ],
      "text/plain": [
       "triple_double   1.0      \n",
       "location          0     1\n",
       "year                     \n",
       "2008            0.0   1.0\n",
       "2009            1.0   0.0\n",
       "2010            0.0   3.0\n",
       "2012            1.0   0.0\n",
       "2013            1.0   1.0\n",
       "2014            2.0   9.0\n",
       "2015            7.0  11.0\n",
       "2016           17.0  25.0\n",
       "2017           16.0   9.0\n",
       "2018           15.0  19.0\n",
       "2019            3.0   5.0\n",
       "2020           17.0  21.0\n",
       "2021            4.0   5.0"
      ]
     },
     "execution_count": 34,
     "metadata": {},
     "output_type": "execute_result"
    }
   ],
   "source": [
    "triple_double_games_gb_df = triple_double_games_df.groupby(['triple_double', 'location', 'year']).size().unstack(level=2).fillna(0).T\n",
    "triple_double_games_gb_df"
   ]
  },
  {
   "cell_type": "markdown",
   "metadata": {},
   "source": [
    "* optional bar plot of triple doubles by game location"
   ]
  },
  {
   "cell_type": "code",
   "execution_count": 35,
   "metadata": {},
   "outputs": [],
   "source": [
    "# triple_double_games_gb_df.plot(kind = 'bar')"
   ]
  },
  {
   "cell_type": "markdown",
   "metadata": {},
   "source": [
    "* line plot of triple doubles over time by location"
   ]
  },
  {
   "cell_type": "code",
   "execution_count": 36,
   "metadata": {},
   "outputs": [
    {
     "data": {
      "image/png": "[encoded data removed]",
      "text/plain": [
       "<Figure size 1152x432 with 1 Axes>"
      ]
     },
     "metadata": {},
     "output_type": "display_data"
    }
   ],
   "source": [
    "sns.set_style(\"white\")\n",
    "sns.set_color_codes()\n",
    "fig, ax = plt.subplots(figsize=(16, 6))\n",
    "fig.subplots_adjust(hspace=0.4)\n",
    "plot_title = 'Seasonal Counts of Triple Doubles by Russell Westbrook \\n Home vs Away'\n",
    "triple_double_games_gb_df.iloc[:,].plot(ax = ax, title = plot_title,\n",
    "                                        ylabel = \"Games with a Triple Double\",\n",
    "                                        xlabel= \"Season\")\n",
    "plt.axvline(x=2015.5, color='k', linestyle='--')\n",
    "plt.xticks([int(year) for year in years_available_list])\n",
    "plt.legend([\"Away\", \"Home\", \"Kevin Durant Leaves OKC\"], loc =\"lower right\")\n",
    "plt.show()"
   ]
  },
  {
   "cell_type": "markdown",
   "metadata": {},
   "source": [
    "# Secondary Analysis\n",
    "\n",
    "Let's look at two scenarios that add to the Russ/triple double debate. \n",
    "1. Russ' play post-partnership with Kevin Durant\n",
    "2. The margin of wins/losses when Russ records a triple double\n",
    "\n",
    "### Triple Double Occurrence with and without Kevin Durant\n",
    "Since teammate Kevin Durant left in Free Agency before the 2016 season, Westbrook won his only MVP and started to define his play with triple doubles\n",
    "* How many triple doubles has Russ created when he was teammates with Kevin Durant in comparison to the years after they were no longer teammates?\n",
    "    + Note: Westbrook is an older player and more established in seasons post playing with Durant and it will not be surprising if he records more triple doubles as a tenured player than as a younger player"
   ]
  },
  {
   "cell_type": "code",
   "execution_count": 37,
   "metadata": {},
   "outputs": [
    {
     "data": {
      "text/html": [
       "<div>\n",
       "<style scoped>\n",
       "    .dataframe tbody tr th:only-of-type {\n",
       "        vertical-align: middle;\n",
       "    }\n",
       "\n",
       "    .dataframe tbody tr th {\n",
       "        vertical-align: top;\n",
       "    }\n",
       "\n",
       "    .dataframe thead th {\n",
       "        text-align: right;\n",
       "    }\n",
       "</style>\n",
       "<table border=\"1\" class=\"dataframe\">\n",
       "  <thead>\n",
       "    <tr style=\"text-align: right;\">\n",
       "      <th></th>\n",
       "      <th>year</th>\n",
       "      <th>Away</th>\n",
       "      <th>Home</th>\n",
       "    </tr>\n",
       "  </thead>\n",
       "  <tbody>\n",
       "    <tr>\n",
       "      <th>0</th>\n",
       "      <td>2008</td>\n",
       "      <td>0.0</td>\n",
       "      <td>1.0</td>\n",
       "    </tr>\n",
       "    <tr>\n",
       "      <th>1</th>\n",
       "      <td>2009</td>\n",
       "      <td>1.0</td>\n",
       "      <td>0.0</td>\n",
       "    </tr>\n",
       "    <tr>\n",
       "      <th>2</th>\n",
       "      <td>2010</td>\n",
       "      <td>0.0</td>\n",
       "      <td>3.0</td>\n",
       "    </tr>\n",
       "    <tr>\n",
       "      <th>3</th>\n",
       "      <td>2012</td>\n",
       "      <td>1.0</td>\n",
       "      <td>0.0</td>\n",
       "    </tr>\n",
       "    <tr>\n",
       "      <th>4</th>\n",
       "      <td>2013</td>\n",
       "      <td>1.0</td>\n",
       "      <td>1.0</td>\n",
       "    </tr>\n",
       "    <tr>\n",
       "      <th>5</th>\n",
       "      <td>2014</td>\n",
       "      <td>2.0</td>\n",
       "      <td>9.0</td>\n",
       "    </tr>\n",
       "    <tr>\n",
       "      <th>6</th>\n",
       "      <td>2015</td>\n",
       "      <td>7.0</td>\n",
       "      <td>11.0</td>\n",
       "    </tr>\n",
       "    <tr>\n",
       "      <th>7</th>\n",
       "      <td>2016</td>\n",
       "      <td>17.0</td>\n",
       "      <td>25.0</td>\n",
       "    </tr>\n",
       "    <tr>\n",
       "      <th>8</th>\n",
       "      <td>2017</td>\n",
       "      <td>16.0</td>\n",
       "      <td>9.0</td>\n",
       "    </tr>\n",
       "    <tr>\n",
       "      <th>9</th>\n",
       "      <td>2018</td>\n",
       "      <td>15.0</td>\n",
       "      <td>19.0</td>\n",
       "    </tr>\n",
       "    <tr>\n",
       "      <th>10</th>\n",
       "      <td>2019</td>\n",
       "      <td>3.0</td>\n",
       "      <td>5.0</td>\n",
       "    </tr>\n",
       "    <tr>\n",
       "      <th>11</th>\n",
       "      <td>2020</td>\n",
       "      <td>17.0</td>\n",
       "      <td>21.0</td>\n",
       "    </tr>\n",
       "    <tr>\n",
       "      <th>12</th>\n",
       "      <td>2021</td>\n",
       "      <td>4.0</td>\n",
       "      <td>5.0</td>\n",
       "    </tr>\n",
       "  </tbody>\n",
       "</table>\n",
       "</div>"
      ],
      "text/plain": [
       "    year  Away  Home\n",
       "0   2008   0.0   1.0\n",
       "1   2009   1.0   0.0\n",
       "2   2010   0.0   3.0\n",
       "3   2012   1.0   0.0\n",
       "4   2013   1.0   1.0\n",
       "5   2014   2.0   9.0\n",
       "6   2015   7.0  11.0\n",
       "7   2016  17.0  25.0\n",
       "8   2017  16.0   9.0\n",
       "9   2018  15.0  19.0\n",
       "10  2019   3.0   5.0\n",
       "11  2020  17.0  21.0\n",
       "12  2021   4.0   5.0"
      ]
     },
     "execution_count": 37,
     "metadata": {},
     "output_type": "execute_result"
    }
   ],
   "source": [
    "triple_double_games_gb_df2 = triple_double_games_gb_df[1].reset_index(level=\"year\")\n",
    "triple_double_games_gb_df2.keys().name = ''\n",
    "triple_double_games_gb_df2.rename(columns={0:\"Away\", 1:\"Home\"}, inplace=True)\n",
    "triple_double_games_gb_df2"
   ]
  },
  {
   "cell_type": "code",
   "execution_count": 38,
   "metadata": {},
   "outputs": [],
   "source": [
    "with_kd_mask = triple_double_games_gb_df2[\"year\"]<2016\n",
    "without_kd_mask = triple_double_games_gb_df2[\"year\"]>=2016"
   ]
  },
  {
   "cell_type": "code",
   "execution_count": 39,
   "metadata": {},
   "outputs": [
    {
     "data": {
      "text/html": [
       "<div>\n",
       "<style scoped>\n",
       "    .dataframe tbody tr th:only-of-type {\n",
       "        vertical-align: middle;\n",
       "    }\n",
       "\n",
       "    .dataframe tbody tr th {\n",
       "        vertical-align: top;\n",
       "    }\n",
       "\n",
       "    .dataframe thead th {\n",
       "        text-align: right;\n",
       "    }\n",
       "</style>\n",
       "<table border=\"1\" class=\"dataframe\">\n",
       "  <thead>\n",
       "    <tr style=\"text-align: right;\">\n",
       "      <th></th>\n",
       "      <th>year</th>\n",
       "      <th>Away</th>\n",
       "      <th>Home</th>\n",
       "    </tr>\n",
       "  </thead>\n",
       "  <tbody>\n",
       "    <tr>\n",
       "      <th>7</th>\n",
       "      <td>2016</td>\n",
       "      <td>17.0</td>\n",
       "      <td>25.0</td>\n",
       "    </tr>\n",
       "    <tr>\n",
       "      <th>8</th>\n",
       "      <td>2017</td>\n",
       "      <td>16.0</td>\n",
       "      <td>9.0</td>\n",
       "    </tr>\n",
       "    <tr>\n",
       "      <th>9</th>\n",
       "      <td>2018</td>\n",
       "      <td>15.0</td>\n",
       "      <td>19.0</td>\n",
       "    </tr>\n",
       "    <tr>\n",
       "      <th>10</th>\n",
       "      <td>2019</td>\n",
       "      <td>3.0</td>\n",
       "      <td>5.0</td>\n",
       "    </tr>\n",
       "    <tr>\n",
       "      <th>11</th>\n",
       "      <td>2020</td>\n",
       "      <td>17.0</td>\n",
       "      <td>21.0</td>\n",
       "    </tr>\n",
       "    <tr>\n",
       "      <th>12</th>\n",
       "      <td>2021</td>\n",
       "      <td>4.0</td>\n",
       "      <td>5.0</td>\n",
       "    </tr>\n",
       "  </tbody>\n",
       "</table>\n",
       "</div>"
      ],
      "text/plain": [
       "    year  Away  Home\n",
       "7   2016  17.0  25.0\n",
       "8   2017  16.0   9.0\n",
       "9   2018  15.0  19.0\n",
       "10  2019   3.0   5.0\n",
       "11  2020  17.0  21.0\n",
       "12  2021   4.0   5.0"
      ]
     },
     "execution_count": 39,
     "metadata": {},
     "output_type": "execute_result"
    }
   ],
   "source": [
    "triple_double_games_gb_df2.loc[without_kd_mask]"
   ]
  },
  {
   "cell_type": "code",
   "execution_count": 40,
   "metadata": {},
   "outputs": [],
   "source": [
    "# triple_double_games_gb_df2.loc[with_kd_mask]"
   ]
  },
  {
   "cell_type": "markdown",
   "metadata": {},
   "source": [
    "* count triple doubles with and without Kevin Durant as a teammate"
   ]
  },
  {
   "cell_type": "code",
   "execution_count": 41,
   "metadata": {},
   "outputs": [],
   "source": [
    "triple_doubles_without_kd = sum(triple_double_games_gb_df2.loc[without_kd_mask][\"Away\"])+ sum(triple_double_games_gb_df2.loc[without_kd_mask][\"Home\"])\n",
    "triple_doubles_with_kd = sum(triple_double_games_gb_df2.loc[with_kd_mask][\"Away\"])+ sum(triple_double_games_gb_df2.loc[with_kd_mask][\"Home\"])"
   ]
  },
  {
   "cell_type": "code",
   "execution_count": 42,
   "metadata": {},
   "outputs": [
    {
     "name": "stdout",
     "output_type": "stream",
     "text": [
      "Westbrook recorded 37.0 triple doubles in 7 seasons with Kevin Durant as a teammate\n",
      "Westbrook has created 156.0 triple doubles in 6+ seasons without Kevin Durant as a teammate\n"
     ]
    }
   ],
   "source": [
    "print(f\"Westbrook recorded {triple_doubles_with_kd} triple doubles in {triple_double_games_gb_df2.loc[with_kd_mask].shape[0]} seasons with Kevin Durant as a teammate\")\n",
    "print(f\"Westbrook has created {triple_doubles_without_kd} triple doubles in {triple_double_games_gb_df2.loc[without_kd_mask].shape[0]}+ seasons without Kevin Durant as a teammate\")"
   ]
  },
  {
   "cell_type": "markdown",
   "metadata": {},
   "source": [
    "### Game margin by Triple Double Occurrence\n",
    "\n",
    "Lastly, the game margin during triple double games can provide a naive comparison about how Russ' pursuit of a triple double affects his team. For instance, if Russ is selfishly pursuing triple doubles at the expense of team success, we could expect that the margin of loss is greater in loses where he records a triple double than in loses where a triple double is not achieved. Similarly, smaller win margins in games with a triple double than without a triple double could suggest a negative team effect when Russ creates a triple double.\n",
    "* what is the margin difference in games that are won/lost, but a triple double is recorded?\n",
    "* compare to margin for games won/lost without a triple double\n"
   ]
  },
  {
   "cell_type": "code",
   "execution_count": 43,
   "metadata": {},
   "outputs": [],
   "source": [
    "triple_double_win_margin = np.mean(triple_double_games_df.loc[triple_double_games_df[\"result_b\"]==1][\"margin\"])\n",
    "triple_double_loss_margin = np.mean(triple_double_games_df.loc[triple_double_games_df[\"result_b\"]==0][\"margin\"])\n",
    "non_triple_double_win_margin = np.mean(non_triple_double_games_df.loc[non_triple_double_games_df[\"result_b\"]==1][\"margin\"])\n",
    "non_triple_double_loss_margin = np.mean(non_triple_double_games_df.loc[non_triple_double_games_df[\"result_b\"]==0][\"margin\"])"
   ]
  },
  {
   "cell_type": "code",
   "execution_count": 44,
   "metadata": {},
   "outputs": [
    {
     "data": {
      "text/html": [
       "<table>\n",
       "<tbody>\n",
       "<tr><td>Triple Double Win Margin     </td><td style=\"text-align: right;\">11.55</td></tr>\n",
       "<tr><td>Non-Triple Double Win Margin </td><td style=\"text-align: right;\">11.59</td></tr>\n",
       "<tr><td>Triple Double Loss Margin    </td><td style=\"text-align: right;\">-7.27</td></tr>\n",
       "<tr><td>Non-Triple Double Loss Margin</td><td style=\"text-align: right;\">-9.96</td></tr>\n",
       "</tbody>\n",
       "</table>"
      ],
      "text/plain": [
       "'<table>\\n<tbody>\\n<tr><td>Triple Double Win Margin     </td><td style=\"text-align: right;\">11.55</td></tr>\\n<tr><td>Non-Triple Double Win Margin </td><td style=\"text-align: right;\">11.59</td></tr>\\n<tr><td>Triple Double Loss Margin    </td><td style=\"text-align: right;\">-7.27</td></tr>\\n<tr><td>Non-Triple Double Loss Margin</td><td style=\"text-align: right;\">-9.96</td></tr>\\n</tbody>\\n</table>'"
      ]
     },
     "execution_count": 44,
     "metadata": {},
     "output_type": "execute_result"
    }
   ],
   "source": [
    "margin_data = [[\"Triple Double Win Margin\", f\"{triple_double_win_margin:.2f}\"],\n",
    "               [\"Non-Triple Double Win Margin\", f\"{non_triple_double_win_margin:.2f}\"],\n",
    "               [\"Triple Double Loss Margin\", f\"{triple_double_loss_margin:.2f}\"],\n",
    "               [\"Non-Triple Double Loss Margin\", f\"{non_triple_double_loss_margin:.2f}\"]]\n",
    "margin_table = tabulate.tabulate(margin_data, tablefmt='html')\n",
    "margin_table"
   ]
  },
  {
   "cell_type": "markdown",
   "metadata": {},
   "source": [
    "* When Russ's teams lose, they (on average) lose by a smaller margin (-7.27) when he records a triple double than when he does not (-9.96)\n",
    "* Unlike the margin in losses, the win margin is nearly identical in games Russ' teams win when Russ records a triple double (11.55) than when he does not (11.6)\n",
    "\n",
    "## Review\n",
    "\n",
    "In all honesty, these results are surprising (to me) and speak well for Russ and his supporters\n",
    "\n",
    "* Westbrook's teams win a far greater percentage of games when he has a triple double than when he doesn't\n",
    "    + 74% of games won when a triple double is recorded vs 55% of games won without a triple double\n",
    "* Additionally, game margins suggests that when Westbrook creates a triple double, the team performance is not negatively impacted. \n",
    "    + When Westbrook's teams lose but he records a triple double are smaller than game margins when a triple double is not recorded in a loss. \n",
    "    + Furthermore, Russ' teams win at a similar margin when he does and does not record a triple double.\n",
    "    + Together, the game margin evidence suggests that Russ is not pursuing triple doubles in blowouts and not [stat padding](https://en.wikipedia.org/wiki/Stat_padding#:~:text=In%20sports%2C%20stat%20padding%20is,or%20its%20chance%20of%20winning.) as suggested in [this video](https://www.youtube.com/watch?v=N8erK7T_LIQ)\n",
    "* Westbrook recently became a triple double machine, amassing 156 of his 193 triple doubles in the last 6+ seasons alone alone\n",
    "    + Westbrook's increased pursuit of the triple double occurs after the Oklahoma City Thunder lost Kevin Durant during Free Agency in the summer of 2016\n",
    "    + For reference, LeBron James (4<sup>th</sup> all time in triple doubles) has recorded 103 total triple doubles in a 19-year NBA career \n",
    "        + Westbrook is 12<sup>th</sup> all time in assists while LeBron is  7<sup>th</sup> (source: [ESPN](http://www.espn.com/nba/history/leaders/_/stat/assists))\n",
    "\n",
    "## Footnotes\n",
    "\n",
    "[<sup id=\"fn1\">1</sup>](#fn1-back)steals and blocks were added to the box score almost a decade after points, rebounds, and assists. [This blazersedge.com article](https://www.blazersedge.com/2017/1/19/13755264/nba-box-score-history) has excellent documentation of the NBA box score's evolution "
   ]
  },
  {
   "cell_type": "code",
   "execution_count": 45,
   "metadata": {},
   "outputs": [
    {
     "name": "stdout",
     "output_type": "stream",
     "text": [
      "originally published 2022-03-06 11:43\n",
      "last updated: 2022-03-06 19:22 \n",
      "\n",
      "Python version: sys.version_info(major=3, minor=9, micro=7, releaselevel='final', serial=0)\n",
      "matplotlib version: 3.4.3\n",
      "iPython version: 7.29.0\n",
      "urllib version: 3.9\n",
      "seaborn version: 0.11.2\n",
      "pandas version: 1.4.1\n"
     ]
    }
   ],
   "source": [
    "import sys\n",
    "import IPython\n",
    "import matplotlib as mpl\n",
    "from datetime import datetime\n",
    "print('originally published 2022-03-06 11:43')\n",
    "print(f'last updated: {datetime.now().strftime(\"%Y-%m-%d %H:%M\")} \\n')\n",
    "print(f'Python version: {sys.version_info}')\n",
    "print(f'matplotlib version: {mpl.__version__}')\n",
    "print(f'iPython version: {IPython.__version__}')\n",
    "print(f'urllib version: {urllib.request.__version__}')\n",
    "print(f'seaborn version: {sns.__version__}')\n",
    "print(f'pandas version: {pd.__version__}')"
   ]
  }
 ],
 "metadata": {
  "kernelspec": {
   "display_name": "Python 3 (ipykernel)",
   "language": "python",
   "name": "python3"
  },
  "language_info": {
   "codemirror_mode": {
    "name": "ipython",
    "version": 3
   },
   "file_extension": ".py",
   "mimetype": "text/x-python",
   "name": "python",
   "nbconvert_exporter": "python",
   "pygments_lexer": "ipython3",
   "version": "3.9.7"
  }
 },
 "nbformat": 4,
 "nbformat_minor": 4
}
